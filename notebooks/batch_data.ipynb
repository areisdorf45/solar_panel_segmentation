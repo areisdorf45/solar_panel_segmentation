{
 "cells": [
  {
   "cell_type": "code",
   "execution_count": 237,
   "id": "276174f9",
   "metadata": {},
   "outputs": [],
   "source": [
    "import os\n",
    "import tensorflow as tf\n",
    "import pandas as pd\n",
    "from tensorflow import keras\n",
    "from tensorflow.keras import layers, Model\n",
    "import pathlib\n",
    "from tensorflow.keras import Input\n",
    "import numpy as np\n",
    "from tensorflow.keras.layers import Lambda, Conv2D, BatchNormalization, MaxPooling2D, Conv2DTranspose, concatenate\n",
    "from tensorflow.keras.metrics import MeanIoU"
   ]
  },
  {
   "cell_type": "code",
   "execution_count": 217,
   "id": "99cb11c0",
   "metadata": {},
   "outputs": [],
   "source": [
    "#Deviding data by batches"
   ]
  },
  {
   "cell_type": "code",
   "execution_count": 238,
   "id": "c28b18c7",
   "metadata": {},
   "outputs": [],
   "source": [
    "def process_path(image_path, mask_path):\n",
    "    image = tf.io.read_file(image_path)\n",
    "    mask = tf.io.read_file(mask_path)\n",
    "    image = tf.image.decode_png(image, channels = 3)\n",
    "    mask = tf.image.decode_png(mask, channels = 1)\n",
    "    return image, mask"
   ]
  },
  {
   "cell_type": "code",
   "execution_count": 243,
   "id": "2cd97678",
   "metadata": {},
   "outputs": [],
   "source": [
    "def batch_data (path_X, path_y, batch_size):\n",
    "    X_names = os.listdir(path_X)\n",
    "    X_path = [f'{path_X}/{file}' for file in X_names]\n",
    "    y_names = os.listdir(path_y)\n",
    "    y_path = [f'{path_y}/{file}' for file in y_names]\n",
    "    ds_train = tf.data.Dataset.from_tensor_slices((X_path, y_path))\n",
    "    return ds_train.map(process_path).batch(batch_size)"
   ]
  },
  {
   "cell_type": "code",
   "execution_count": 244,
   "id": "6ef58e72",
   "metadata": {},
   "outputs": [],
   "source": [
    "def unet_model(img_height, img_width, channels):\n",
    "\n",
    "    #Input\n",
    "    inputs = Input((img_height, img_width, channels))\n",
    "    inputs = Lambda(lambda x: x / 255)(inputs) #Normalize the pixels by dividing by 255\n",
    "\n",
    "    #Encoder where we are extracting the features\n",
    "    convolution1 = Conv2D(16, kernel_size=(3, 3), activation='relu', padding='same')(inputs)\n",
    "    convolution1 = BatchNormalization()(convolution1) #other option is to do dropout by batch is faster \n",
    "    convolution1 = Conv2D(16, kernel_size=(3, 3), activation='relu', padding='same')(convolution1)\n",
    "    pooling1 = MaxPooling2D((2, 2))(convolution1)\n",
    "      \n",
    "    convolution1 = Conv2D(16, kernel_size=(3, 3), activation='relu', padding='same')(inputs)\n",
    "    convolution1 = BatchNormalization()(convolution1) \n",
    "    convolution1 = Conv2D(16, kernel_size=(3, 3), activation='relu', padding='same')(convolution1)\n",
    "    pooling1 = MaxPooling2D((2, 2))(convolution1)\n",
    "    \n",
    "    convolution2 = Conv2D(32, kernel_size=(3, 3), activation='relu', padding='same')(pooling1)\n",
    "    convolution2 = BatchNormalization()(convolution2)\n",
    "    convolution2 = Conv2D(32, kernel_size=(3, 3), activation='relu', padding='same')(convolution2)\n",
    "    pooling2 = MaxPooling2D((2, 2))(convolution2)\n",
    "     \n",
    "    convolution3 = Conv2D(64, kernel_size=(3, 3), activation='relu', padding='same')(pooling2)\n",
    "    convolution3 = BatchNormalization()(convolution3)\n",
    "    convolution3 = Conv2D(64, kernel_size=(3, 3), activation='relu', padding='same')(convolution3)\n",
    "    pooling3 = MaxPooling2D((2, 2))(convolution3)\n",
    "     \n",
    "    convolution4 = Conv2D(128, kernel_size=(3, 3), activation='relu', padding='same')(pooling3)\n",
    "    convolution4 = BatchNormalization()(convolution4)\n",
    "    convolution4 = Conv2D(128, kernel_size=(3, 3), activation='relu', padding='same')(convolution4)\n",
    "    pooling4 = MaxPooling2D(pool_size=(2, 2))(convolution4)\n",
    "\n",
    "    #Bottleneck at the base of the U-net \n",
    "    convolution5 = Conv2D(256, kernel_size=(3, 3), activation='relu', padding='same')(pooling4)\n",
    "    convolution5 = BatchNormalization()(convolution5)\n",
    "    convolution5 = Conv2D(256, kernel_size=(3, 3), activation='relu', padding='same')(convolution5)\n",
    "    \n",
    "    #Decoder where we are indicating to the model the precise location of the features \n",
    "    transconv6 = Conv2DTranspose(128, kernel_size=(2, 2), strides=(2, 2), padding='same')(convolution5)\n",
    "    transconv6 = concatenate([transconv6, convolution4])\n",
    "    convolution6 = Conv2D(128, kernel_size=(3, 3), activation='relu', padding='same')(transconv6)\n",
    "    convolution6 = BatchNormalization()(convolution6)\n",
    "    convolution6 = Conv2D(128, kernel_size=(3, 3), activation='relu', padding='same')(convolution6)\n",
    "     \n",
    "    transconv7 = Conv2DTranspose(64, kernel_size=(2, 2), strides=(2, 2), padding='same')(convolution6)\n",
    "    transconv7 = concatenate([transconv7, convolution3])\n",
    "    convolution7 = Conv2D(64, kernel_size=(3, 3), activation='relu', padding='same')(transconv7)\n",
    "    convolution7 = BatchNormalization()(convolution7)\n",
    "    convolution7 = Conv2D(64, kernel_size=(3, 3), activation='relu', padding='same')(convolution7)\n",
    "     \n",
    "    transconv8 = Conv2DTranspose(32, kernel_size=(2, 2), strides=(2, 2), padding='same')(convolution7)\n",
    "    transconv8 = concatenate([transconv8, convolution2])\n",
    "    convolution8 = Conv2D(32, kernel_size=(3, 3), activation='relu', padding='same')(transconv8)\n",
    "    convolution8 = BatchNormalization()(convolution8)\n",
    "    convolution8 = Conv2D(32, kernel_size=(3, 3), activation='relu', padding='same')(convolution8)\n",
    "     \n",
    "    transconv9 = Conv2DTranspose(16, kernel_size=(2, 2), strides=(2, 2), padding='same')(convolution8)\n",
    "    transconv9 = concatenate([transconv9, convolution1], axis=3)\n",
    "    convolution9 = Conv2D(16, kernel_size=(3, 3), activation='relu', padding='same')(transconv9)\n",
    "    convolution9 = BatchNormalization()(convolution9)\n",
    "    convolution9 = Conv2D(16, kernel_size=(3, 3), activation='relu', padding='same')(convolution9)\n",
    "     \n",
    "    outputs = Conv2D(1, kernel_size=(1, 1), activation='sigmoid')(convolution9)\n",
    "     \n",
    "    model = Model(inputs=[inputs], outputs=[outputs])\n",
    "    jaccard = MeanIoU(2)\n",
    "    \n",
    "    #loss options include: binary_crossentropy, IoU Loss (Jaccard Index), dice loss\n",
    "    model.compile(optimizer='adam', loss='binary_crossentropy') \n",
    "    \n",
    "    model.summary()\n",
    "    \n",
    "    return model"
   ]
  },
  {
   "cell_type": "code",
   "execution_count": 214,
   "id": "3377c44a",
   "metadata": {},
   "outputs": [],
   "source": [
    "channels=3"
   ]
  },
  {
   "cell_type": "code",
   "execution_count": 13,
   "id": "75aeafe8",
   "metadata": {},
   "outputs": [],
   "source": [
    "img_height = 256"
   ]
  },
  {
   "cell_type": "code",
   "execution_count": 14,
   "id": "f0c6be3d",
   "metadata": {},
   "outputs": [],
   "source": [
    "img_width = 256"
   ]
  },
  {
   "cell_type": "code",
   "execution_count": 245,
   "id": "bdaa3458",
   "metadata": {},
   "outputs": [
    {
     "name": "stdout",
     "output_type": "stream",
     "text": [
      "Model: \"model_4\"\n",
      "__________________________________________________________________________________________________\n",
      " Layer (type)                   Output Shape         Param #     Connected to                     \n",
      "==================================================================================================\n",
      " input_17 (InputLayer)          [(None, 256, 256, 3  0           []                               \n",
      "                                )]                                                                \n",
      "                                                                                                  \n",
      " conv2d_131 (Conv2D)            (None, 256, 256, 16  448         ['input_17[0][0]']               \n",
      "                                )                                                                 \n",
      "                                                                                                  \n",
      " batch_normalization_63 (BatchN  (None, 256, 256, 16  64         ['conv2d_131[1][0]']             \n",
      " ormalization)                  )                                                                 \n",
      "                                                                                                  \n",
      " conv2d_132 (Conv2D)            (None, 256, 256, 16  2320        ['batch_normalization_63[1][0]'] \n",
      "                                )                                                                 \n",
      "                                                                                                  \n",
      " max_pooling2d_36 (MaxPooling2D  (None, 128, 128, 16  0          ['conv2d_132[1][0]']             \n",
      " )                              )                                                                 \n",
      "                                                                                                  \n",
      " conv2d_133 (Conv2D)            (None, 128, 128, 32  4640        ['max_pooling2d_36[1][0]']       \n",
      "                                )                                                                 \n",
      "                                                                                                  \n",
      " batch_normalization_64 (BatchN  (None, 128, 128, 32  128        ['conv2d_133[1][0]']             \n",
      " ormalization)                  )                                                                 \n",
      "                                                                                                  \n",
      " conv2d_134 (Conv2D)            (None, 128, 128, 32  9248        ['batch_normalization_64[1][0]'] \n",
      "                                )                                                                 \n",
      "                                                                                                  \n",
      " max_pooling2d_37 (MaxPooling2D  (None, 64, 64, 32)  0           ['conv2d_134[1][0]']             \n",
      " )                                                                                                \n",
      "                                                                                                  \n",
      " conv2d_135 (Conv2D)            (None, 64, 64, 64)   18496       ['max_pooling2d_37[1][0]']       \n",
      "                                                                                                  \n",
      " batch_normalization_65 (BatchN  (None, 64, 64, 64)  256         ['conv2d_135[1][0]']             \n",
      " ormalization)                                                                                    \n",
      "                                                                                                  \n",
      " conv2d_136 (Conv2D)            (None, 64, 64, 64)   36928       ['batch_normalization_65[1][0]'] \n",
      "                                                                                                  \n",
      " max_pooling2d_38 (MaxPooling2D  (None, 32, 32, 64)  0           ['conv2d_136[1][0]']             \n",
      " )                                                                                                \n",
      "                                                                                                  \n",
      " conv2d_137 (Conv2D)            (None, 32, 32, 128)  73856       ['max_pooling2d_38[1][0]']       \n",
      "                                                                                                  \n",
      " batch_normalization_66 (BatchN  (None, 32, 32, 128)  512        ['conv2d_137[1][0]']             \n",
      " ormalization)                                                                                    \n",
      "                                                                                                  \n",
      " conv2d_138 (Conv2D)            (None, 32, 32, 128)  147584      ['batch_normalization_66[1][0]'] \n",
      "                                                                                                  \n",
      " max_pooling2d_39 (MaxPooling2D  (None, 16, 16, 128)  0          ['conv2d_138[1][0]']             \n",
      " )                                                                                                \n",
      "                                                                                                  \n",
      " conv2d_139 (Conv2D)            (None, 16, 16, 256)  295168      ['max_pooling2d_39[1][0]']       \n",
      "                                                                                                  \n",
      " batch_normalization_67 (BatchN  (None, 16, 16, 256)  1024       ['conv2d_139[1][0]']             \n",
      " ormalization)                                                                                    \n",
      "                                                                                                  \n",
      " conv2d_140 (Conv2D)            (None, 16, 16, 256)  590080      ['batch_normalization_67[1][0]'] \n",
      "                                                                                                  \n",
      " conv2d_transpose_21 (Conv2DTra  (None, 32, 32, 128)  131200     ['conv2d_140[1][0]']             \n",
      " nspose)                                                                                          \n",
      "                                                                                                  \n",
      " concatenate_20 (Concatenate)   (None, 32, 32, 256)  0           ['conv2d_transpose_21[1][0]',    \n",
      "                                                                  'conv2d_138[1][0]']             \n",
      "                                                                                                  \n",
      " conv2d_141 (Conv2D)            (None, 32, 32, 128)  295040      ['concatenate_20[1][0]']         \n",
      "                                                                                                  \n",
      " batch_normalization_68 (BatchN  (None, 32, 32, 128)  512        ['conv2d_141[1][0]']             \n",
      " ormalization)                                                                                    \n",
      "                                                                                                  \n",
      " conv2d_142 (Conv2D)            (None, 32, 32, 128)  147584      ['batch_normalization_68[1][0]'] \n",
      "                                                                                                  \n",
      " conv2d_transpose_22 (Conv2DTra  (None, 64, 64, 64)  32832       ['conv2d_142[1][0]']             \n",
      " nspose)                                                                                          \n",
      "                                                                                                  \n",
      " concatenate_21 (Concatenate)   (None, 64, 64, 128)  0           ['conv2d_transpose_22[1][0]',    \n",
      "                                                                  'conv2d_136[1][0]']             \n",
      "                                                                                                  \n",
      " conv2d_143 (Conv2D)            (None, 64, 64, 64)   73792       ['concatenate_21[1][0]']         \n",
      "                                                                                                  \n",
      " batch_normalization_69 (BatchN  (None, 64, 64, 64)  256         ['conv2d_143[1][0]']             \n",
      " ormalization)                                                                                    \n",
      "                                                                                                  \n",
      " conv2d_144 (Conv2D)            (None, 64, 64, 64)   36928       ['batch_normalization_69[1][0]'] \n",
      "                                                                                                  \n"
     ]
    },
    {
     "name": "stdout",
     "output_type": "stream",
     "text": [
      " conv2d_transpose_23 (Conv2DTra  (None, 128, 128, 32  8224       ['conv2d_144[1][0]']             \n",
      " nspose)                        )                                                                 \n",
      "                                                                                                  \n",
      " concatenate_22 (Concatenate)   (None, 128, 128, 64  0           ['conv2d_transpose_23[1][0]',    \n",
      "                                )                                 'conv2d_134[1][0]']             \n",
      "                                                                                                  \n",
      " conv2d_145 (Conv2D)            (None, 128, 128, 32  18464       ['concatenate_22[1][0]']         \n",
      "                                )                                                                 \n",
      "                                                                                                  \n",
      " batch_normalization_70 (BatchN  (None, 128, 128, 32  128        ['conv2d_145[1][0]']             \n",
      " ormalization)                  )                                                                 \n",
      "                                                                                                  \n",
      " conv2d_146 (Conv2D)            (None, 128, 128, 32  9248        ['batch_normalization_70[1][0]'] \n",
      "                                )                                                                 \n",
      "                                                                                                  \n",
      " conv2d_transpose_24 (Conv2DTra  (None, 256, 256, 16  2064       ['conv2d_146[1][0]']             \n",
      " nspose)                        )                                                                 \n",
      "                                                                                                  \n",
      " concatenate_23 (Concatenate)   (None, 256, 256, 32  0           ['conv2d_transpose_24[1][0]',    \n",
      "                                )                                 'conv2d_132[1][0]']             \n",
      "                                                                                                  \n",
      " conv2d_147 (Conv2D)            (None, 256, 256, 16  4624        ['concatenate_23[1][0]']         \n",
      "                                )                                                                 \n",
      "                                                                                                  \n",
      " batch_normalization_71 (BatchN  (None, 256, 256, 16  64         ['conv2d_147[1][0]']             \n",
      " ormalization)                  )                                                                 \n",
      "                                                                                                  \n",
      " conv2d_148 (Conv2D)            (None, 256, 256, 16  2320        ['batch_normalization_71[1][0]'] \n",
      "                                )                                                                 \n",
      "                                                                                                  \n",
      " conv2d_149 (Conv2D)            (None, 256, 256, 1)  17          ['conv2d_148[1][0]']             \n",
      "                                                                                                  \n",
      "==================================================================================================\n",
      "Total params: 1,944,049\n",
      "Trainable params: 1,942,577\n",
      "Non-trainable params: 1,472\n",
      "__________________________________________________________________________________________________\n"
     ]
    }
   ],
   "source": [
    "model = unet_model(img_height, img_width, channels)"
   ]
  },
  {
   "cell_type": "code",
   "execution_count": 221,
   "id": "ba61ded6",
   "metadata": {},
   "outputs": [],
   "source": [
    "path_X = '/home/lewagon/code/Dponomareva/test/data/Images'"
   ]
  },
  {
   "cell_type": "code",
   "execution_count": 222,
   "id": "41c4d3bc",
   "metadata": {},
   "outputs": [],
   "source": [
    "path_y = '/home/lewagon/code/Dponomareva/test/data/Target'"
   ]
  },
  {
   "cell_type": "code",
   "execution_count": 24,
   "id": "28171a13",
   "metadata": {},
   "outputs": [],
   "source": [
    "batch_size = 32"
   ]
  },
  {
   "cell_type": "code",
   "execution_count": 248,
   "id": "be3bdd34",
   "metadata": {},
   "outputs": [],
   "source": [
    "model.fit(batch_data(path_X,path_y,batch_size), epochs=1)"
   ]
  },
  {
   "cell_type": "code",
   "execution_count": 235,
   "id": "c03fcc61",
   "metadata": {},
   "outputs": [
    {
     "name": "stdout",
     "output_type": "stream",
     "text": [
      "(32, 256, 256, 3)\n",
      "(32, 256, 256, 1)\n"
     ]
    }
   ],
   "source": [
    "#for images, masks in ds_train:\n",
    "    #print(images.shape)\n",
    "    #print(masks.shape)\n",
    "    #break"
   ]
  }
 ],
 "metadata": {
  "kernelspec": {
   "display_name": "Python 3 (ipykernel)",
   "language": "python",
   "name": "python3"
  },
  "language_info": {
   "codemirror_mode": {
    "name": "ipython",
    "version": 3
   },
   "file_extension": ".py",
   "mimetype": "text/x-python",
   "name": "python",
   "nbconvert_exporter": "python",
   "pygments_lexer": "ipython3",
   "version": "3.8.12"
  },
  "toc": {
   "base_numbering": 1,
   "nav_menu": {},
   "number_sections": true,
   "sideBar": true,
   "skip_h1_title": false,
   "title_cell": "Table of Contents",
   "title_sidebar": "Contents",
   "toc_cell": false,
   "toc_position": {},
   "toc_section_display": true,
   "toc_window_display": false
  },
  "varInspector": {
   "cols": {
    "lenName": 16,
    "lenType": 16,
    "lenVar": 40
   },
   "kernels_config": {
    "python": {
     "delete_cmd_postfix": "",
     "delete_cmd_prefix": "del ",
     "library": "var_list.py",
     "varRefreshCmd": "print(var_dic_list())"
    },
    "r": {
     "delete_cmd_postfix": ") ",
     "delete_cmd_prefix": "rm(",
     "library": "var_list.r",
     "varRefreshCmd": "cat(var_dic_list()) "
    }
   },
   "types_to_exclude": [
    "module",
    "function",
    "builtin_function_or_method",
    "instance",
    "_Feature"
   ],
   "window_display": false
  }
 },
 "nbformat": 4,
 "nbformat_minor": 5
}
