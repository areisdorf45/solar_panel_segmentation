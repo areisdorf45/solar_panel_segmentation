{
 "cells": [
  {
   "cell_type": "code",
   "execution_count": 38,
   "id": "f4483951",
   "metadata": {},
   "outputs": [],
   "source": [
    "import cv2\n",
    "import matplotlib.pyplot as plt\n",
    "import os\n",
    "import numpy as np"
   ]
  },
  {
   "cell_type": "code",
   "execution_count": 39,
   "id": "b5eafdb3",
   "metadata": {},
   "outputs": [],
   "source": [
    "image_directory = '/home/areisdorf/code/areisdorf45/solar_panel_segmentation/notebooks/simple_data/single_img/images/austin1.tif'"
   ]
  },
  {
   "cell_type": "code",
   "execution_count": 42,
   "id": "2c1200bd",
   "metadata": {
    "collapsed": true
   },
   "outputs": [
    {
     "data": {
      "text/plain": [
       "array([[[121, 127, 123],\n",
       "        [123, 128, 124],\n",
       "        [121, 126, 124],\n",
       "        ...,\n",
       "        [ 90,  99, 103],\n",
       "        [ 99, 110, 113],\n",
       "        [ 95, 108, 108]],\n",
       "\n",
       "       [[124, 129, 125],\n",
       "        [127, 131, 126],\n",
       "        [123, 127, 124],\n",
       "        ...,\n",
       "        [ 93, 102, 105],\n",
       "        [ 96, 110, 113],\n",
       "        [ 94, 108, 108]],\n",
       "\n",
       "       [[124, 128, 124],\n",
       "        [123, 127, 124],\n",
       "        [123, 126, 124],\n",
       "        ...,\n",
       "        [ 95, 104, 106],\n",
       "        [ 97, 111, 115],\n",
       "        [ 95, 109, 111]],\n",
       "\n",
       "       ...,\n",
       "\n",
       "       [[ 45,  47,  38],\n",
       "        [ 27,  31,  27],\n",
       "        [ 37,  38,  34],\n",
       "        ...,\n",
       "        [ 84,  90,  93],\n",
       "        [ 34,  38,  43],\n",
       "        [ 32,  34,  43]],\n",
       "\n",
       "       [[ 43,  44,  36],\n",
       "        [ 45,  44,  37],\n",
       "        [ 54,  50,  44],\n",
       "        ...,\n",
       "        [ 32,  39,  44],\n",
       "        [ 37,  40,  43],\n",
       "        [ 30,  35,  41]],\n",
       "\n",
       "       [[ 44,  44,  37],\n",
       "        [ 64,  59,  50],\n",
       "        [ 50,  48,  42],\n",
       "        ...,\n",
       "        [ 34,  39,  41],\n",
       "        [ 33,  37,  40],\n",
       "        [ 73,  75,  83]]], dtype=uint8)"
      ]
     },
     "execution_count": 42,
     "metadata": {},
     "output_type": "execute_result"
    }
   ],
   "source": [
    "img = cv2.imread(image_directory)"
   ]
  },
  {
   "cell_type": "code",
   "execution_count": 49,
   "id": "04de7314",
   "metadata": {},
   "outputs": [],
   "source": [
    "size = 256\n",
    "overlap = 4\n",
    "\n",
    "indices = np.arange(0, (5000 - (size - overlap)), size - overlap)\n",
    "#output_loc = '/home/areisdorf/code/areisdorf45/solar_panel_segmentation/notebooks/simple_data/simple_pred'\n",
    "\n",
    "for x in indices:\n",
    "    for y in indices:\n",
    "        split = img[x:(x + size), y:(y + size), :]\n",
    "        array = np.array(split)\n",
    "        cv2.imwrite('simple_slice.png', array )"
   ]
  },
  {
   "cell_type": "code",
   "execution_count": 50,
   "id": "61bb8a49",
   "metadata": {},
   "outputs": [],
   "source": [
    "def image_split(dictionary, overlap, size):\n",
    "    \n",
    "   indices = np.arange(0, (5000 - (size - overlap)), size - overlap)\n",
    "   files = os.listdir(dictionary)\n",
    "   \n",
    "   for file in files:\n",
    "        img = io.imread(f'{dictionary}/{file}')\n",
    "        for x in indices:\n",
    "            for y in indices:\n",
    "                split = img[x:(x + size), y:(y + size), :]\n",
    "                array = np.array(split)\n",
    "                image.imsave(f'{dictionary}/../simple_slice/{file}_{x}_{y}.png', array)"
   ]
  },
  {
   "cell_type": "code",
   "execution_count": 65,
   "id": "a5ca477c",
   "metadata": {},
   "outputs": [],
   "source": [
    "def mask_split(dictionary, overlap, size):\n",
    "    \n",
    "   indices = np.arange(0, (5000 - (size - overlap)), size - overlap)\n",
    "   files = os.listdir(dictionary)\n",
    "   \n",
    "   for file in files:\n",
    "        img = io.imread(f'{dictionary}/{file}')\n",
    "        for x in indices:\n",
    "            for y in indices:\n",
    "                split = img[x:(x + size), y:(y + size), :]\n",
    "                array = np.array(split)\n",
    "                image.imsave(f'{dictionary}/../mask_slice/{file}_{x}_{y}.png', array)"
   ]
  },
  {
   "cell_type": "code",
   "execution_count": 69,
   "id": "b7e90439",
   "metadata": {},
   "outputs": [
    {
     "ename": "NameError",
     "evalue": "name 'io' is not defined",
     "output_type": "error",
     "traceback": [
      "\u001b[0;31m---------------------------------------------------------------------------\u001b[0m",
      "\u001b[0;31mNameError\u001b[0m                                 Traceback (most recent call last)",
      "\u001b[0;32m/tmp/ipykernel_3163/3252631655.py\u001b[0m in \u001b[0;36m<module>\u001b[0;34m\u001b[0m\n\u001b[0;32m----> 1\u001b[0;31m \u001b[0mmask_split\u001b[0m\u001b[0;34m(\u001b[0m\u001b[0;34m'/home/areisdorf/code/areisdorf45/solar_panel_segmentation/notebooks/simple_data/single_img/gt'\u001b[0m\u001b[0;34m,\u001b[0m \u001b[0;36m4\u001b[0m\u001b[0;34m,\u001b[0m \u001b[0;36m256\u001b[0m\u001b[0;34m)\u001b[0m\u001b[0;34m\u001b[0m\u001b[0;34m\u001b[0m\u001b[0m\n\u001b[0m",
      "\u001b[0;32m/tmp/ipykernel_3163/3923777183.py\u001b[0m in \u001b[0;36mmask_split\u001b[0;34m(dictionary, overlap, size)\u001b[0m\n\u001b[1;32m      5\u001b[0m \u001b[0;34m\u001b[0m\u001b[0m\n\u001b[1;32m      6\u001b[0m    \u001b[0;32mfor\u001b[0m \u001b[0mfile\u001b[0m \u001b[0;32min\u001b[0m \u001b[0mfiles\u001b[0m\u001b[0;34m:\u001b[0m\u001b[0;34m\u001b[0m\u001b[0;34m\u001b[0m\u001b[0m\n\u001b[0;32m----> 7\u001b[0;31m         \u001b[0mimg\u001b[0m \u001b[0;34m=\u001b[0m \u001b[0mio\u001b[0m\u001b[0;34m.\u001b[0m\u001b[0mimread\u001b[0m\u001b[0;34m(\u001b[0m\u001b[0;34mf'{dictionary}/{file}'\u001b[0m\u001b[0;34m)\u001b[0m\u001b[0;34m\u001b[0m\u001b[0;34m\u001b[0m\u001b[0m\n\u001b[0m\u001b[1;32m      8\u001b[0m         \u001b[0;32mfor\u001b[0m \u001b[0mx\u001b[0m \u001b[0;32min\u001b[0m \u001b[0mindices\u001b[0m\u001b[0;34m:\u001b[0m\u001b[0;34m\u001b[0m\u001b[0;34m\u001b[0m\u001b[0m\n\u001b[1;32m      9\u001b[0m             \u001b[0;32mfor\u001b[0m \u001b[0my\u001b[0m \u001b[0;32min\u001b[0m \u001b[0mindices\u001b[0m\u001b[0;34m:\u001b[0m\u001b[0;34m\u001b[0m\u001b[0;34m\u001b[0m\u001b[0m\n",
      "\u001b[0;31mNameError\u001b[0m: name 'io' is not defined"
     ]
    }
   ],
   "source": [
    "mask_split('/home/areisdorf/code/areisdorf45/solar_panel_segmentation/notebooks/simple_data/single_img/gt', 4, 256)"
   ]
  },
  {
   "cell_type": "code",
   "execution_count": 59,
   "id": "d5364db1",
   "metadata": {},
   "outputs": [],
   "source": [
    "from tensorflow.keras.models import Model\n",
    "from tensorflow.keras.layers import Input, Conv2D, MaxPooling2D, UpSampling2D, concatenate, Conv2DTranspose, BatchNormalization, Dropout, Lambda\n",
    "from tensorflow.keras.metrics import MeanIoU\n",
    "from tensorflow.keras.utils import image_dataset_from_directory"
   ]
  },
  {
   "cell_type": "code",
   "execution_count": 57,
   "id": "a4d79a80",
   "metadata": {},
   "outputs": [],
   "source": [
    "def simple_unet_model(image):\n",
    "\n",
    "    #Input\n",
    "    height = 256\n",
    "    width = 256\n",
    "    channels = 3\n",
    "    inputs = Input((height, width, channels))\n",
    "    inputs = Lambda(lambda x: x / 255)(inputs) #Normalize the pixels by dividing by 255\n",
    "\n",
    "    #Encoder where we are extracting the features\n",
    "    convolution1 = Conv2D(16, kernel_size=(3, 3), activation='relu', padding='same')(inputs)\n",
    "    convolution1 = Dropout(0.1)(convolution1) #other option is to do batch normalization\n",
    "    convolution1 = Conv2D(16, kernel_size=(3, 3), activation='relu', padding='same')(convolution1)\n",
    "    pooling1 = MaxPooling2D((2, 2))(convolution1)\n",
    "    \n",
    "    convolution2 = Conv2D(32, kernel_size=(3, 3), activation='relu', padding='same')(pooling1)\n",
    "    convolution2 = Dropout(0.1)(convolution2)\n",
    "    convolution2 = Conv2D(32, kernel_size=(3, 3), activation='relu', padding='same')(convolution2)\n",
    "    pooling2 = MaxPooling2D((2, 2))(convolution2)\n",
    "     \n",
    "    convolution3 = Conv2D(64, kernel_size=(3, 3), activation='relu', padding='same')(pooling2)\n",
    "    convolution3 = Dropout(0.2)(convolution3)\n",
    "    convolution3 = Conv2D(64, kernel_size=(3, 3), activation='relu', padding='same')(convolution3)\n",
    "    pooling3 = MaxPooling2D((2, 2))(convolution3)\n",
    "     \n",
    "    convolution4 = Conv2D(128, kernel_size=(3, 3), activation='relu', padding='same')(pooling3)\n",
    "    convolution4 = Dropout(0.2)(convolution4)\n",
    "    convolution4 = Conv2D(128, kernel_size=(3, 3), activation='relu', padding='same')(convolution4)\n",
    "    pooling4 = MaxPooling2D(pool_size=(2, 2))(convolution4)\n",
    "     \n",
    "    convolution5 = Conv2D(256, kernel_size=(3, 3), activation='relu', padding='same')(pooling4)\n",
    "    convolution5 = Dropout(0.3)(convolution5)\n",
    "    convolution5 = Conv2D(256, kernel_size=(3, 3), activation='relu', padding='same')(convolution5)\n",
    "    \n",
    "    #Decoder where we are indicating to the model the precise location of the features \n",
    "    transconv6 = Conv2DTranspose(128, kernel_size=(2, 2), strides=(2, 2), padding='same')(convolution5)\n",
    "    transconv6 = concatenate([transconv6, convolution4])\n",
    "    convolution6 = Conv2D(128, kernel_size=(3, 3), activation='relu', padding='same')(transconv6)\n",
    "    convolution6 = Dropout(0.2)(convolution6)\n",
    "    convolution6 = Conv2D(128, kernel_size=(3, 3), activation='relu', padding='same')(convolution6)\n",
    "     \n",
    "    transconv7 = Conv2DTranspose(64, kernel_size=(2, 2), strides=(2, 2), padding='same')(convolution6)\n",
    "    transconv7 = concatenate([transconv7, convolution3])\n",
    "    convolution7 = Conv2D(64, kernel_size=(3, 3), activation='relu', padding='same')(transconv7)\n",
    "    convolution7 = Dropout(0.2)(convolution7)\n",
    "    convolution7 = Conv2D(64, kernel_size=(3, 3), activation='relu', padding='same')(convolution7)\n",
    "     \n",
    "    transconv8 = Conv2DTranspose(32, kernel_size=(2, 2), strides=(2, 2), padding='same')(convolution7)\n",
    "    transconv8 = concatenate([transconv8, convolution2])\n",
    "    convolution8 = Conv2D(32, kernel_size=(3, 3), activation='relu', padding='same')(transconv8)\n",
    "    convolution8 = Dropout(0.1)(convolution8)\n",
    "    convolution8 = Conv2D(32, kernel_size=(3, 3), activation='relu', padding='same')(convolution8)\n",
    "     \n",
    "    transconv9 = Conv2DTranspose(16, kernel_size=(2, 2), strides=(2, 2), padding='same')(convolution8)\n",
    "    transconv9 = concatenate([transconv9, convolution1], axis=3)\n",
    "    convolution9 = Conv2D(16, kernel_size=(3, 3), activation='relu', padding='same')(transconv9)\n",
    "    convolution9 = Dropout(0.1)(convolution9)\n",
    "    convolution9 = Conv2D(16, kernel_size=(3, 3), activation='relu', padding='same')(convolution9)\n",
    "     \n",
    "    outputs = Conv2D(1, kernel_size=(1, 1), activation='sigmoid')(convolution9)\n",
    "     \n",
    "    model = Model(inputs=[inputs], outputs=[outputs])\n",
    "    jaccard = MeanIoU(2)\n",
    "    \n",
    "    #loss options include: binary_crossentropy, IoU Loss (Jaccard Index), dice coefficient\n",
    "    model.compile(optimizer='adam', loss=jaccard, metrics=['accuracy']) \n",
    "    \n",
    "    model.summary()\n",
    "    \n",
    "    return model"
   ]
  },
  {
   "cell_type": "code",
   "execution_count": 58,
   "id": "c70db8e7",
   "metadata": {
    "collapsed": true
   },
   "outputs": [
    {
     "name": "stdout",
     "output_type": "stream",
     "text": [
      "Model: \"model\"\n",
      "__________________________________________________________________________________________________\n",
      " Layer (type)                   Output Shape         Param #     Connected to                     \n",
      "==================================================================================================\n",
      " input_3 (InputLayer)           [(None, 256, 256, 3  0           []                               \n",
      "                                )]                                                                \n",
      "                                                                                                  \n",
      " conv2d_3 (Conv2D)              (None, 256, 256, 16  448         ['input_3[0][0]']                \n",
      "                                )                                                                 \n",
      "                                                                                                  \n",
      " dropout_2 (Dropout)            (None, 256, 256, 16  0           ['conv2d_3[1][0]']               \n",
      "                                )                                                                 \n",
      "                                                                                                  \n",
      " conv2d_4 (Conv2D)              (None, 256, 256, 16  2320        ['dropout_2[1][0]']              \n",
      "                                )                                                                 \n",
      "                                                                                                  \n",
      " max_pooling2d_1 (MaxPooling2D)  (None, 128, 128, 16  0          ['conv2d_4[1][0]']               \n",
      "                                )                                                                 \n",
      "                                                                                                  \n",
      " conv2d_5 (Conv2D)              (None, 128, 128, 32  4640        ['max_pooling2d_1[1][0]']        \n",
      "                                )                                                                 \n",
      "                                                                                                  \n",
      " dropout_3 (Dropout)            (None, 128, 128, 32  0           ['conv2d_5[1][0]']               \n",
      "                                )                                                                 \n",
      "                                                                                                  \n",
      " conv2d_6 (Conv2D)              (None, 128, 128, 32  9248        ['dropout_3[1][0]']              \n",
      "                                )                                                                 \n",
      "                                                                                                  \n",
      " max_pooling2d_2 (MaxPooling2D)  (None, 64, 64, 32)  0           ['conv2d_6[1][0]']               \n",
      "                                                                                                  \n",
      " conv2d_7 (Conv2D)              (None, 64, 64, 64)   18496       ['max_pooling2d_2[1][0]']        \n",
      "                                                                                                  \n",
      " dropout_4 (Dropout)            (None, 64, 64, 64)   0           ['conv2d_7[1][0]']               \n",
      "                                                                                                  \n",
      " conv2d_8 (Conv2D)              (None, 64, 64, 64)   36928       ['dropout_4[1][0]']              \n",
      "                                                                                                  \n",
      " max_pooling2d_3 (MaxPooling2D)  (None, 32, 32, 64)  0           ['conv2d_8[1][0]']               \n",
      "                                                                                                  \n",
      " conv2d_9 (Conv2D)              (None, 32, 32, 128)  73856       ['max_pooling2d_3[1][0]']        \n",
      "                                                                                                  \n",
      " dropout_5 (Dropout)            (None, 32, 32, 128)  0           ['conv2d_9[1][0]']               \n",
      "                                                                                                  \n",
      " conv2d_10 (Conv2D)             (None, 32, 32, 128)  147584      ['dropout_5[1][0]']              \n",
      "                                                                                                  \n",
      " max_pooling2d_4 (MaxPooling2D)  (None, 16, 16, 128)  0          ['conv2d_10[1][0]']              \n",
      "                                                                                                  \n",
      " conv2d_11 (Conv2D)             (None, 16, 16, 256)  295168      ['max_pooling2d_4[1][0]']        \n",
      "                                                                                                  \n",
      " dropout_6 (Dropout)            (None, 16, 16, 256)  0           ['conv2d_11[1][0]']              \n",
      "                                                                                                  \n",
      " conv2d_12 (Conv2D)             (None, 16, 16, 256)  590080      ['dropout_6[1][0]']              \n",
      "                                                                                                  \n",
      " conv2d_transpose (Conv2DTransp  (None, 32, 32, 128)  131200     ['conv2d_12[1][0]']              \n",
      " ose)                                                                                             \n",
      "                                                                                                  \n",
      " concatenate (Concatenate)      (None, 32, 32, 256)  0           ['conv2d_transpose[1][0]',       \n",
      "                                                                  'conv2d_10[1][0]']              \n",
      "                                                                                                  \n",
      " conv2d_13 (Conv2D)             (None, 32, 32, 128)  295040      ['concatenate[1][0]']            \n",
      "                                                                                                  \n",
      " dropout_7 (Dropout)            (None, 32, 32, 128)  0           ['conv2d_13[1][0]']              \n",
      "                                                                                                  \n",
      " conv2d_14 (Conv2D)             (None, 32, 32, 128)  147584      ['dropout_7[1][0]']              \n",
      "                                                                                                  \n",
      " conv2d_transpose_1 (Conv2DTran  (None, 64, 64, 64)  32832       ['conv2d_14[1][0]']              \n",
      " spose)                                                                                           \n",
      "                                                                                                  \n",
      " concatenate_1 (Concatenate)    (None, 64, 64, 128)  0           ['conv2d_transpose_1[1][0]',     \n",
      "                                                                  'conv2d_8[1][0]']               \n",
      "                                                                                                  \n",
      " conv2d_15 (Conv2D)             (None, 64, 64, 64)   73792       ['concatenate_1[1][0]']          \n",
      "                                                                                                  \n",
      " dropout_8 (Dropout)            (None, 64, 64, 64)   0           ['conv2d_15[1][0]']              \n",
      "                                                                                                  \n",
      " conv2d_16 (Conv2D)             (None, 64, 64, 64)   36928       ['dropout_8[1][0]']              \n",
      "                                                                                                  \n",
      " conv2d_transpose_2 (Conv2DTran  (None, 128, 128, 32  8224       ['conv2d_16[1][0]']              \n",
      " spose)                         )                                                                 \n",
      "                                                                                                  \n",
      " concatenate_2 (Concatenate)    (None, 128, 128, 64  0           ['conv2d_transpose_2[1][0]',     \n",
      "                                )                                 'conv2d_6[1][0]']               \n",
      "                                                                                                  \n",
      " conv2d_17 (Conv2D)             (None, 128, 128, 32  18464       ['concatenate_2[1][0]']          \n",
      "                                )                                                                 \n",
      "                                                                                                  \n",
      " dropout_9 (Dropout)            (None, 128, 128, 32  0           ['conv2d_17[1][0]']              \n",
      "                                )                                                                 \n",
      "                                                                                                  \n",
      " conv2d_18 (Conv2D)             (None, 128, 128, 32  9248        ['dropout_9[1][0]']              \n",
      "                                )                                                                 \n",
      "                                                                                                  \n",
      " conv2d_transpose_3 (Conv2DTran  (None, 256, 256, 16  2064       ['conv2d_18[1][0]']              \n",
      " spose)                         )                                                                 \n",
      "                                                                                                  \n",
      " concatenate_3 (Concatenate)    (None, 256, 256, 32  0           ['conv2d_transpose_3[1][0]',     \n",
      "                                )                                 'conv2d_4[1][0]']               \n",
      "                                                                                                  \n",
      " conv2d_19 (Conv2D)             (None, 256, 256, 16  4624        ['concatenate_3[1][0]']          \n",
      "                                )                                                                 \n",
      "                                                                                                  \n",
      " dropout_10 (Dropout)           (None, 256, 256, 16  0           ['conv2d_19[1][0]']              \n",
      "                                )                                                                 \n",
      "                                                                                                  \n",
      " conv2d_20 (Conv2D)             (None, 256, 256, 16  2320        ['dropout_10[1][0]']             \n",
      "                                )                                                                 \n",
      "                                                                                                  \n",
      " conv2d_21 (Conv2D)             (None, 256, 256, 1)  17          ['conv2d_20[1][0]']              \n",
      "                                                                                                  \n",
      "==================================================================================================\n",
      "Total params: 1,941,109\n",
      "Trainable params: 1,941,105\n",
      "Non-trainable params: 4\n",
      "__________________________________________________________________________________________________\n"
     ]
    },
    {
     "data": {
      "text/plain": [
       "<keras.engine.functional.Functional at 0x7fe0b0cce730>"
      ]
     },
     "execution_count": 58,
     "metadata": {},
     "output_type": "execute_result"
    }
   ],
   "source": [
    "simple_unet_model(img)"
   ]
  },
  {
   "cell_type": "code",
   "execution_count": 60,
   "id": "d5aaf1c4",
   "metadata": {},
   "outputs": [],
   "source": [
    "sliced_image_directory = '/home/areisdorf/code/areisdorf45/solar_panel_segmentation/notebooks/simple_data/single_img/simple_slice'"
   ]
  },
  {
   "cell_type": "code",
   "execution_count": 63,
   "id": "3f5de99a",
   "metadata": {},
   "outputs": [
    {
     "name": "stdout",
     "output_type": "stream",
     "text": [
      "Found 361 files belonging to 1 classes.\n"
     ]
    }
   ],
   "source": [
    "training_images = image_dataset_from_directory(sliced_image_directory)"
   ]
  },
  {
   "cell_type": "code",
   "execution_count": 64,
   "id": "f59f54ac",
   "metadata": {},
   "outputs": [
    {
     "data": {
      "text/plain": [
       "tensorflow.python.data.ops.dataset_ops.BatchDataset"
      ]
     },
     "execution_count": 64,
     "metadata": {},
     "output_type": "execute_result"
    }
   ],
   "source": [
    "type(training_images)"
   ]
  },
  {
   "cell_type": "code",
   "execution_count": null,
   "id": "f3daba88",
   "metadata": {},
   "outputs": [],
   "source": [
    "    #Encoder where we are extracting the features\n",
    "    x = layers.Conv2D(32, 3, strides=2, padding=\"same\")(inputs)\n",
    "    x = layers.BatchNormalization()(x)\n",
    "    x = layers.Activation(\"relu\")(x)\n",
    "    \n",
    "    \n",
    "    x = Conv2D(16, kernel_size=(3, 3), activation='relu', padding='same')(inputs)\n",
    "    x = BatchNormalization()(x)\n",
    "    x = Conv2D(16, kernel_size=(3, 3), activation='relu', padding='same')(x)\n",
    "    \n",
    "    x = MaxPooling2D((2, 2))(x)\n",
    "      \n",
    "    convolution1 = Conv2D(16, kernel_size=(3, 3), activation='relu', padding='same')(inputs)\n",
    "    convolution1 = BatchNormalization()(convolution1) #other option is to do batch normalization\n",
    "    convolution1 = Conv2D(16, kernel_size=(3, 3), activation='relu', padding='same')(convolution1)\n",
    "    pooling1 = MaxPooling2D((2, 2))(convolution1)\n",
    "    \n",
    "    convolution2 = Conv2D(32, kernel_size=(3, 3), activation='relu', padding='same')(pooling1)\n",
    "    convolution2 = BatchNormalization()(convolution2)\n",
    "    convolution2 = Conv2D(32, kernel_size=(3, 3), activation='relu', padding='same')(convolution2)\n",
    "    pooling2 = MaxPooling2D((2, 2))(convolution2)\n",
    "     \n",
    "    convolution3 = Conv2D(64, kernel_size=(3, 3), activation='relu', padding='same')(pooling2)\n",
    "    convolution3 = BatchNormalization()(convolution3)\n",
    "    convolution3 = Conv2D(64, kernel_size=(3, 3), activation='relu', padding='same')(convolution3)\n",
    "    pooling3 = MaxPooling2D((2, 2))(convolution3)\n",
    "     \n",
    "    convolution4 = Conv2D(128, kernel_size=(3, 3), activation='relu', padding='same')(pooling3)\n",
    "    convolution4 = BatchNormalization()(convolution4)\n",
    "    convolution4 = Conv2D(128, kernel_size=(3, 3), activation='relu', padding='same')(convolution4)\n",
    "    pooling4 = MaxPooling2D(pool_size=(2, 2))(convolution4)"
   ]
  }
 ],
 "metadata": {
  "kernelspec": {
   "display_name": "Python 3 (ipykernel)",
   "language": "python",
   "name": "python3"
  },
  "language_info": {
   "codemirror_mode": {
    "name": "ipython",
    "version": 3
   },
   "file_extension": ".py",
   "mimetype": "text/x-python",
   "name": "python",
   "nbconvert_exporter": "python",
   "pygments_lexer": "ipython3",
   "version": "3.8.12"
  },
  "toc": {
   "base_numbering": 1,
   "nav_menu": {},
   "number_sections": true,
   "sideBar": true,
   "skip_h1_title": false,
   "title_cell": "Table of Contents",
   "title_sidebar": "Contents",
   "toc_cell": false,
   "toc_position": {},
   "toc_section_display": true,
   "toc_window_display": false
  }
 },
 "nbformat": 4,
 "nbformat_minor": 5
}
