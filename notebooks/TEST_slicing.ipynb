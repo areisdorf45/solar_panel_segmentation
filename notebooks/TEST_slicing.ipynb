{
 "cells": [
  {
   "cell_type": "code",
   "execution_count": 2,
   "id": "cb5be741-7ca4-4a20-896e-41029864f359",
   "metadata": {
    "collapsed": true
   },
   "outputs": [
    {
     "name": "stderr",
     "output_type": "stream",
     "text": [
      "2022-12-01 21:52:10.977980: I tensorflow/core/platform/cpu_feature_guard.cc:193] This TensorFlow binary is optimized with oneAPI Deep Neural Network Library (oneDNN) to use the following CPU instructions in performance-critical operations:  AVX2 FMA\n",
      "To enable them in other operations, rebuild TensorFlow with the appropriate compiler flags.\n",
      "2022-12-01 21:52:11.649899: W tensorflow/compiler/xla/stream_executor/platform/default/dso_loader.cc:64] Could not load dynamic library 'libnvinfer.so.7'; dlerror: libnvinfer.so.7: cannot open shared object file: No such file or directory; LD_LIBRARY_PATH: /home/zhlj/.pyenv/versions/3.8.12/envs/solar_panel/lib/python3.8/site-packages/cv2/../../lib64:/usr/local/cuda-11/lib64:\n",
      "2022-12-01 21:52:11.650030: W tensorflow/compiler/xla/stream_executor/platform/default/dso_loader.cc:64] Could not load dynamic library 'libnvinfer_plugin.so.7'; dlerror: libnvinfer_plugin.so.7: cannot open shared object file: No such file or directory; LD_LIBRARY_PATH: /home/zhlj/.pyenv/versions/3.8.12/envs/solar_panel/lib/python3.8/site-packages/cv2/../../lib64:/usr/local/cuda-11/lib64:\n",
      "2022-12-01 21:52:11.650040: W tensorflow/compiler/tf2tensorrt/utils/py_utils.cc:38] TF-TRT Warning: Cannot dlopen some TensorRT libraries. If you would like to use Nvidia GPU with TensorRT, please make sure the missing libraries mentioned above are installed properly.\n"
     ]
    }
   ],
   "source": [
    "import os\n",
    "import numpy as np\n",
    "import cv2 as cv\n",
    "from skimage import io\n",
    "import matplotlib.pyplot as plt\n",
    "from matplotlib import image\n",
    "from tensorflow.keras.models import Model\n",
    "from tensorflow.keras.layers import Input, Conv2D, MaxPooling2D, UpSampling2D, concatenate, Conv2DTranspose, BatchNormalization, Dropout, Lambda\n",
    "from tensorflow.keras.metrics import MeanIoU\n",
    "from tensorflow.keras.utils import image_dataset_from_directory"
   ]
  },
  {
   "cell_type": "code",
   "execution_count": 3,
   "id": "db0fe968",
   "metadata": {},
   "outputs": [
    {
     "data": {
      "text/plain": [
       "'/home/zhlj/code/solar_panel_segmentation/notebooks'"
      ]
     },
     "execution_count": 3,
     "metadata": {},
     "output_type": "execute_result"
    }
   ],
   "source": [
    "pwd"
   ]
  },
  {
   "cell_type": "code",
   "execution_count": 11,
   "id": "1df9b45b-6ad8-453e-aac4-3e08c9932a39",
   "metadata": {},
   "outputs": [],
   "source": [
    "def test_image_split(dictionary, overlap, size):\n",
    "    \n",
    "    indices = np.arange(0, (5000 - (size - overlap)), size - overlap)\n",
    "    files = os.listdir(dictionary)\n",
    "    \n",
    "    for file in files:\n",
    "        img = cv.imread(f'{dictionary}/{file}')\n",
    "        for x in indices:\n",
    "            for y in indices:\n",
    "                split = img[x:(x + size), y:(y + size), :]\n",
    "                array = np.array(split)\n",
    "                cv.imwrite(f'/mnt/d/PDE/AerialImageDataset/train_image_slices/{file}_{x}_{y}.png', array)  "
   ]
  },
  {
   "cell_type": "code",
   "execution_count": 12,
   "id": "8616aba0-06cb-470b-8691-6d8a404ee354",
   "metadata": {},
   "outputs": [],
   "source": [
    "def test_mask_split(dictionary, overlap, size):\n",
    "    \n",
    "    indices = np.arange(0, (5000 - (size - overlap)), size - overlap)\n",
    "    files = os.listdir(dictionary)\n",
    "    \n",
    "    for file in files:\n",
    "        img = cv.imread(f'{dictionary}/{file}', cv.IMREAD_GRAYSCALE)\n",
    "        for x in indices:\n",
    "            for y in indices:\n",
    "                split = img[x:(x + size), y:(y + size)]\n",
    "                array = np.array(split)\n",
    "                cv.imwrite(f'/mnt/d/PDE/AerialImageDataset/train_mask_slices/{file}_{x}_{y}.png', array)  "
   ]
  },
  {
   "cell_type": "code",
   "execution_count": 13,
   "id": "79610b8f-dfee-46a4-aecc-c9481ab38a3c",
   "metadata": {},
   "outputs": [],
   "source": [
    "test_image_split('/mnt/d/PDE/AerialImageDataset/train/images', overlap = 0, size = 256)\n",
    "test_mask_split('/mnt/d/PDE/AerialImageDataset/train/gt', overlap = 0, size = 256)"
   ]
  },
  {
   "cell_type": "code",
   "execution_count": 10,
   "id": "43fdc573-13c7-404d-9396-17a22d0f2945",
   "metadata": {},
   "outputs": [],
   "source": [
    "test_image_split('/mnt/d/PDE/AerialImageDataset/val_test/images', overlap = 0, size = 256)\n",
    "test_mask_split('/mnt/d/PDE/AerialImageDataset/val_test/masks', overlap = 0, size = 256)"
   ]
  }
 ],
 "metadata": {
  "environment": {
   "kernel": "python3",
   "name": "tf2-gpu.2-8.m100",
   "type": "gcloud",
   "uri": "gcr.io/deeplearning-platform-release/tf2-gpu.2-8:m100"
  },
  "kernelspec": {
   "display_name": "Python 3 (ipykernel)",
   "language": "python",
   "name": "python3"
  },
  "language_info": {
   "codemirror_mode": {
    "name": "ipython",
    "version": 3
   },
   "file_extension": ".py",
   "mimetype": "text/x-python",
   "name": "python",
   "nbconvert_exporter": "python",
   "pygments_lexer": "ipython3",
   "version": "3.8.12"
  },
  "toc": {
   "base_numbering": 1,
   "nav_menu": {},
   "number_sections": true,
   "sideBar": true,
   "skip_h1_title": false,
   "title_cell": "Table of Contents",
   "title_sidebar": "Contents",
   "toc_cell": false,
   "toc_position": {},
   "toc_section_display": true,
   "toc_window_display": false
  }
 },
 "nbformat": 4,
 "nbformat_minor": 5
}
