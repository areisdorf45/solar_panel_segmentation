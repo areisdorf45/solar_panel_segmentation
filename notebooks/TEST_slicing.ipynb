{
 "cells": [
  {
   "cell_type": "code",
   "execution_count": 2,
   "id": "cb5be741-7ca4-4a20-896e-41029864f359",
   "metadata": {},
   "outputs": [],
   "source": [
    "import os\n",
    "import numpy as np\n",
    "import cv2 as cv\n",
    "from skimage import io\n",
    "import matplotlib.pyplot as plt\n",
    "from matplotlib import image\n",
    "from tensorflow.keras.models import Model\n",
    "from tensorflow.keras.layers import Input, Conv2D, MaxPooling2D, UpSampling2D, concatenate, Conv2DTranspose, BatchNormalization, Dropout, Lambda\n",
    "from tensorflow.keras.metrics import MeanIoU\n",
    "from tensorflow.keras.utils import image_dataset_from_directory"
   ]
  },
  {
   "cell_type": "code",
   "execution_count": 16,
   "id": "1df9b45b-6ad8-453e-aac4-3e08c9932a39",
   "metadata": {},
   "outputs": [],
   "source": [
    "def test_image_split(dictionary, overlap, size):\n",
    "    \n",
    "    indices = np.arange(0, (5000 - (size - overlap)), size - overlap)\n",
    "    files = os.listdir(dictionary)\n",
    "    \n",
    "    for file in files:\n",
    "        img = cv.imread(f'{dictionary}/{file}')\n",
    "        for x in indices:\n",
    "            for y in indices:\n",
    "                split = img[x:(x + size), y:(y + size), :]\n",
    "                array = np.array(split)\n",
    "                cv.imwrite(f'{dictionary}/../../TEST_slices/test_image_slices/{file}_{x}_{y}.png', array)  "
   ]
  },
  {
   "cell_type": "code",
   "execution_count": 17,
   "id": "8616aba0-06cb-470b-8691-6d8a404ee354",
   "metadata": {},
   "outputs": [],
   "source": [
    "def test_mask_split(dictionary, overlap, size):\n",
    "    \n",
    "    indices = np.arange(0, (5000 - (size - overlap)), size - overlap)\n",
    "    files = os.listdir(dictionary)\n",
    "    \n",
    "    for file in files:\n",
    "        img = cv.imread(f'{dictionary}/{file}', cv.IMREAD_GRAYSCALE)\n",
    "        for x in indices:\n",
    "            for y in indices:\n",
    "                split = img[x:(x + size), y:(y + size)]\n",
    "                array = np.array(split)\n",
    "                cv.imwrite(f'{dictionary}/../../TEST_slices/test_mask_slices/{file}_{x}_{y}.png', array)  "
   ]
  },
  {
   "cell_type": "code",
   "execution_count": 18,
   "id": "79610b8f-dfee-46a4-aecc-c9481ab38a3c",
   "metadata": {},
   "outputs": [],
   "source": [
    "test_image_split('../raw_data/TEST/images', overlap = 0, size = 256)"
   ]
  },
  {
   "cell_type": "code",
   "execution_count": 14,
   "id": "b08ea77f-a08f-4a15-ac81-d35e66abc422",
   "metadata": {},
   "outputs": [],
   "source": [
    "test_mask_split('../raw_data/TEST/masks', overlap = 0, size = 256)"
   ]
  },
  {
   "cell_type": "code",
   "execution_count": null,
   "id": "43fdc573-13c7-404d-9396-17a22d0f2945",
   "metadata": {},
   "outputs": [],
   "source": []
  }
 ],
 "metadata": {
  "environment": {
   "kernel": "python3",
   "name": "tf2-gpu.2-8.m100",
   "type": "gcloud",
   "uri": "gcr.io/deeplearning-platform-release/tf2-gpu.2-8:m100"
  },
  "kernelspec": {
   "display_name": "Python 3",
   "language": "python",
   "name": "python3"
  },
  "language_info": {
   "codemirror_mode": {
    "name": "ipython",
    "version": 3
   },
   "file_extension": ".py",
   "mimetype": "text/x-python",
   "name": "python",
   "nbconvert_exporter": "python",
   "pygments_lexer": "ipython3",
   "version": "3.7.12"
  }
 },
 "nbformat": 4,
 "nbformat_minor": 5
}
