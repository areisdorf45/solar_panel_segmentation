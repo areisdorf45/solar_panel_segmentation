{
 "cells": [
  {
   "cell_type": "code",
   "execution_count": 4,
   "id": "214489bb-7e48-4fe0-81c9-914733e2121f",
   "metadata": {},
   "outputs": [],
   "source": [
    "import os\n",
    "import numpy as np\n",
    "import cv2 as cv\n",
    "from skimage import io\n",
    "import matplotlib.pyplot as plt\n",
    "from matplotlib import image"
   ]
  },
  {
   "cell_type": "code",
   "execution_count": 9,
   "id": "9eee68ee-2e53-4e17-b204-f0b177bfac39",
   "metadata": {},
   "outputs": [],
   "source": [
    "def sample_image_split(dictionary, overlap, size):\n",
    "    \n",
    "   indices = np.arange(0, (5000 - (size - overlap)), size - overlap)\n",
    "   files = ['austin19.tif', 'austin17.tif', 'austin11.tif', 'austin13.tif',\n",
    "           'chicago22.tif', 'chicago25.tif', 'chicago36.tif', 'chicago19.tif',\n",
    "           'vienna36.tif', 'vienna10.tif', 'vienna7.tif', 'vienna7.tif',\n",
    "           'kitsap13.tif', 'kitsap36.tif', 'kitsap27.tif', 'kitsap6.tif',\n",
    "           'tyrol-w14.tif', 'tyrol-w32.tif', 'tyrol-w20.tif', 'tyrol-w19.tif']\n",
    "   \n",
    "   for file in files:\n",
    "        img = cv.imread(f'{dictionary}/{file}')\n",
    "        for x in indices:\n",
    "            for y in indices:\n",
    "                split = img[x:(x + size), y:(y + size), :]\n",
    "                array = np.array(split)\n",
    "                cv.imwrite(f'{dictionary}/../../../small_dataset/sample_images/{file}_{x}_{y}.png', array)    "
   ]
  },
  {
   "cell_type": "code",
   "execution_count": 10,
   "id": "4262f0a2-31f4-4c76-8cf9-1c3810aab150",
   "metadata": {},
   "outputs": [],
   "source": [
    "sample_image_split('../raw_data/AerialImageDataset/train/images', overlap = 20, size = 256)"
   ]
  },
  {
   "cell_type": "code",
   "execution_count": 11,
   "id": "fc3a92e3-0138-4c5b-a307-23cfebb9837e",
   "metadata": {},
   "outputs": [],
   "source": [
    "def sample_masks_split(dictionary, overlap, size):\n",
    "    \n",
    "   indices = np.arange(0, (5000 - (size - overlap)), size - overlap)\n",
    "   files = ['austin19.tif', 'austin17.tif', 'austin11.tif', 'austin13.tif',\n",
    "           'chicago22.tif', 'chicago25.tif', 'chicago36.tif', 'chicago19.tif',\n",
    "           'vienna36.tif', 'vienna10.tif', 'vienna7.tif', 'vienna7.tif',\n",
    "           'kitsap13.tif', 'kitsap36.tif', 'kitsap27.tif', 'kitsap6.tif',\n",
    "           'tyrol-w14.tif', 'tyrol-w32.tif', 'tyrol-w20.tif', 'tyrol-w19.tif']\n",
    "   \n",
    "   for file in files:\n",
    "        img = cv.imread(f'{dictionary}/{file}', cv.IMREAD_GRAYSCALE)\n",
    "        for x in indices:\n",
    "            for y in indices:\n",
    "                split = img[x:(x + size), y:(y + size)]\n",
    "                array = np.array(split)\n",
    "                cv.imwrite(f'{dictionary}/../../../small_dataset/sample_masks/{file}_{x}_{y}.png', array)    "
   ]
  },
  {
   "cell_type": "code",
   "execution_count": 12,
   "id": "1c76989f-b819-4030-be2c-1f302afa1a51",
   "metadata": {},
   "outputs": [],
   "source": [
    "sample_masks_split('../raw_data/AerialImageDataset/train/gt', overlap = 20, size = 256)"
   ]
  }
 ],
 "metadata": {
  "environment": {
   "kernel": "python3",
   "name": "tf2-gpu.2-8.m100",
   "type": "gcloud",
   "uri": "gcr.io/deeplearning-platform-release/tf2-gpu.2-8:m100"
  },
  "kernelspec": {
   "display_name": "Python 3",
   "language": "python",
   "name": "python3"
  },
  "language_info": {
   "codemirror_mode": {
    "name": "ipython",
    "version": 3
   },
   "file_extension": ".py",
   "mimetype": "text/x-python",
   "name": "python",
   "nbconvert_exporter": "python",
   "pygments_lexer": "ipython3",
   "version": "3.7.12"
  }
 },
 "nbformat": 4,
 "nbformat_minor": 5
}
