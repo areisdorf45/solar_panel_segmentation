{
 "cells": [
  {
   "cell_type": "code",
   "execution_count": 8,
   "id": "53349cb4",
   "metadata": {},
   "outputs": [],
   "source": [
    "import os\n",
    "import pandas as pd\n",
    "import pathlib\n",
    "import numpy as np\n",
    "from IPython import display\n",
    "from numpy import asarray\n",
    "import pathlib\n",
    "import tensorflow as tf\n",
    "from tensorflow.keras.metrics import MeanIoU\n",
    "import matplotlib.pyplot as plt"
   ]
  },
  {
   "cell_type": "code",
   "execution_count": 2,
   "id": "7cf6e034",
   "metadata": {},
   "outputs": [
    {
     "name": "stderr",
     "output_type": "stream",
     "text": [
      "2022-11-30 16:03:10.277272: W tensorflow/stream_executor/platform/default/dso_loader.cc:64] Could not load dynamic library 'libcuda.so.1'; dlerror: libcuda.so.1: cannot open shared object file: No such file or directory\n",
      "2022-11-30 16:03:10.277322: W tensorflow/stream_executor/cuda/cuda_driver.cc:269] failed call to cuInit: UNKNOWN ERROR (303)\n",
      "2022-11-30 16:03:10.277340: I tensorflow/stream_executor/cuda/cuda_diagnostics.cc:156] kernel driver does not appear to be running on this host (SLB-G9SSST2): /proc/driver/nvidia/version does not exist\n",
      "2022-11-30 16:03:10.277579: I tensorflow/core/platform/cpu_feature_guard.cc:151] This TensorFlow binary is optimized with oneAPI Deep Neural Network Library (oneDNN) to use the following CPU instructions in performance-critical operations:  AVX2 FMA\n",
      "To enable them in other operations, rebuild TensorFlow with the appropriate compiler flags.\n"
     ]
    }
   ],
   "source": [
    "# Defining constants, has to pick specific name of any of the images\n",
    "path_y = '/home/lewagon/code/Dponomareva/test/data/Target'\n",
    "batch_size = 32\n",
    "mask_shape = tf.image.decode_png(tf.io.read_file(\"/home/lewagon/code/Dponomareva/test/data/Target/austin1.tif_0_0.png\"), channels = 1).shape"
   ]
  },
  {
   "cell_type": "code",
   "execution_count": 11,
   "id": "2a761d43",
   "metadata": {},
   "outputs": [
    {
     "data": {
      "image/png": "[encoded data removed]",
      "text/plain": [
       "<PIL.Image.Image image mode=RGB size=256x256 at 0x7F7D8828FD60>"
      ]
     },
     "execution_count": 11,
     "metadata": {},
     "output_type": "execute_result"
    }
   ],
   "source": [
    "tf.keras.preprocessing.image.load_img('/home/lewagon/code/Dponomareva/test/data/Target/austin1.tif_0_0.png')"
   ]
  },
  {
   "cell_type": "code",
   "execution_count": 3,
   "id": "0f503cf1",
   "metadata": {},
   "outputs": [],
   "source": [
    "def process_path(mask_path):\n",
    "    mask = tf.io.read_file(mask_path)\n",
    "    mask = tf.image.decode_png(mask, channels = 1) / 255\n",
    "    mask_zeros = tf.zeros(mask_shape, tf.int32)\n",
    "    return mask, mask_zeros"
   ]
  },
  {
   "cell_type": "code",
   "execution_count": 4,
   "id": "b43ca879",
   "metadata": {},
   "outputs": [],
   "source": [
    "def batch_data(path_y, batch_size):\n",
    "    y_names = os.listdir(path_y)\n",
    "    y_path = [f'{path_y}/{file}' for file in y_names]\n",
    "    ds_train = tf.data.Dataset.from_tensor_slices((y_path))\n",
    "    return ds_train.map(process_path).batch(batch_size)"
   ]
  },
  {
   "cell_type": "code",
   "execution_count": 5,
   "id": "8ce6eb54",
   "metadata": {},
   "outputs": [
    {
     "name": "stdout",
     "output_type": "stream",
     "text": [
      "(32, 256, 256, 1)\n",
      "(32, 256, 256, 1)\n"
     ]
    }
   ],
   "source": [
    "#to check how mapping is working\n",
    "for mask in batch_data(path_y, batch_size):\n",
    "    print(mask[0].shape)\n",
    "    print(mask[1].shape)\n",
    "    break"
   ]
  },
  {
   "cell_type": "code",
   "execution_count": 6,
   "id": "cda372fc",
   "metadata": {},
   "outputs": [],
   "source": [
    "baseline_ds = batch_data(path_y, batch_size)"
   ]
  },
  {
   "cell_type": "code",
   "execution_count": 7,
   "id": "7a49ac3d",
   "metadata": {},
   "outputs": [
    {
     "data": {
      "text/plain": [
       "(0.4461315, 0.8922631)"
      ]
     },
     "execution_count": 7,
     "metadata": {},
     "output_type": "execute_result"
    }
   ],
   "source": [
    "m = tf.keras.metrics.MeanIoU(num_classes=2)\n",
    "ac = tf.keras.metrics.Accuracy()\n",
    "for mask, mask_zeros in baseline_ds:\n",
    "    m.update_state(mask, mask_zeros)\n",
    "    ac.update_state(mask, mask_zeros)\n",
    "\n",
    "m.result().numpy(), ac.result().numpy()"
   ]
  }
 ],
 "metadata": {
  "kernelspec": {
   "display_name": "Python 3 (ipykernel)",
   "language": "python",
   "name": "python3"
  },
  "language_info": {
   "codemirror_mode": {
    "name": "ipython",
    "version": 3
   },
   "file_extension": ".py",
   "mimetype": "text/x-python",
   "name": "python",
   "nbconvert_exporter": "python",
   "pygments_lexer": "ipython3",
   "version": "3.8.12"
  },
  "toc": {
   "base_numbering": 1,
   "nav_menu": {},
   "number_sections": true,
   "sideBar": true,
   "skip_h1_title": false,
   "title_cell": "Table of Contents",
   "title_sidebar": "Contents",
   "toc_cell": false,
   "toc_position": {},
   "toc_section_display": true,
   "toc_window_display": false
  },
  "varInspector": {
   "cols": {
    "lenName": 16,
    "lenType": 16,
    "lenVar": 40
   },
   "kernels_config": {
    "python": {
     "delete_cmd_postfix": "",
     "delete_cmd_prefix": "del ",
     "library": "var_list.py",
     "varRefreshCmd": "print(var_dic_list())"
    },
    "r": {
     "delete_cmd_postfix": ") ",
     "delete_cmd_prefix": "rm(",
     "library": "var_list.r",
     "varRefreshCmd": "cat(var_dic_list()) "
    }
   },
   "types_to_exclude": [
    "module",
    "function",
    "builtin_function_or_method",
    "instance",
    "_Feature"
   ],
   "window_display": false
  }
 },
 "nbformat": 4,
 "nbformat_minor": 5
}
