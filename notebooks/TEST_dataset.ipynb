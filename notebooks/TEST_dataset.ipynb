{
 "cells": [
  {
   "cell_type": "code",
   "execution_count": 1,
   "id": "d5553e30-6ae7-4b82-9c0d-7d645351ebfa",
   "metadata": {},
   "outputs": [],
   "source": [
    "import os  \n",
    "import shutil  "
   ]
  },
  {
   "cell_type": "code",
   "execution_count": 2,
   "id": "2f5930da-469e-4147-b6d0-4e37e8982bce",
   "metadata": {},
   "outputs": [],
   "source": [
    "home = os.environ['HOME']"
   ]
  },
  {
   "cell_type": "code",
   "execution_count": 5,
   "id": "67b9110b-d5e6-41ce-aed0-7f30612c1f48",
   "metadata": {},
   "outputs": [],
   "source": [
    "source_images = os.path.join(home,'raw_data/AerialImageDataset/train/images')\n",
    "source_masks = os.path.join(home,'raw_data/AerialImageDataset/train/gt')\n",
    "\n",
    "destination_images = os.path.join(home,'raw_data/TEST/images')\n",
    "destination_masks = os.path.join(home,'raw_data/TEST/masks')"
   ]
  },
  {
   "cell_type": "code",
   "execution_count": 6,
   "id": "cd0bc468-0d22-4667-a473-0ac60a14c65a",
   "metadata": {},
   "outputs": [
    {
     "data": {
      "text/plain": [
       "'/home/jupyter/raw_data/AerialImageDataset/train/images'"
      ]
     },
     "execution_count": 6,
     "metadata": {},
     "output_type": "execute_result"
    }
   ],
   "source": [
    "source_images"
   ]
  },
  {
   "cell_type": "code",
   "execution_count": 8,
   "id": "9d82ddd3-b92c-48f3-9d2a-9b6b8d6d4d60",
   "metadata": {},
   "outputs": [],
   "source": [
    "test_files = ['vienna16.tif', 'vienna13.tif', 'vienna35.tif', 'vienna32.tif', 'vienna33.tif',\n",
    "              'austin31.tif', 'austin29.tif', 'austin2.tif', 'austin9.tif', 'austin36.tif',\n",
    "              'chicago22.tif', 'chicago16.tif', 'chicago24.tif', 'chicago11.tif', 'chicago12.tif',\n",
    "              'kitsap16.tif', 'kitsap1.tif','kitsap26.tif','kitsap14.tif', 'kitsap13.tif',\n",
    "              'tyrol-w4.tif', 'tyrol-w9.tif', 'tyrol-w30.tif', 'tyrol-w10.tif', 'tyrol-w26.tif']\n",
    "              "
   ]
  },
  {
   "cell_type": "code",
   "execution_count": 7,
   "id": "4d283955-fa21-431b-812c-d76c94bfcbad",
   "metadata": {
    "collapsed": true,
    "jupyter": {
     "outputs_hidden": true
    },
    "tags": []
   },
   "outputs": [
    {
     "data": {
      "text/plain": [
       "['vienna16.tif',\n",
       " 'austin31.tif',\n",
       " 'vienna27.tif',\n",
       " 'austin15.tif',\n",
       " 'vienna13.tif',\n",
       " 'chicago22.tif',\n",
       " 'austin29.tif',\n",
       " 'austin2.tif',\n",
       " 'austin9.tif',\n",
       " 'tyrol-w14.tif',\n",
       " 'vienna35.tif',\n",
       " 'chicago16.tif',\n",
       " 'chicago24.tif',\n",
       " 'vienna32.tif',\n",
       " 'tyrol-w3.tif',\n",
       " 'chicago9.tif',\n",
       " 'vienna33.tif',\n",
       " 'austin11.tif',\n",
       " 'tyrol-w21.tif',\n",
       " 'chicago35.tif',\n",
       " 'austin5.tif',\n",
       " 'chicago33.tif',\n",
       " 'austin6.tif',\n",
       " 'chicago11.tif',\n",
       " 'chicago25.tif',\n",
       " 'chicago6.tif',\n",
       " 'tyrol-w25.tif',\n",
       " 'tyrol-w4.tif',\n",
       " 'tyrol-w10.tif',\n",
       " 'kitsap6.tif',\n",
       " 'tyrol-w9.tif',\n",
       " 'tyrol-w30.tif',\n",
       " 'tyrol-w11.tif',\n",
       " 'kitsap33.tif',\n",
       " 'austin28.tif',\n",
       " 'kitsap24.tif',\n",
       " 'kitsap34.tif',\n",
       " 'chicago36.tif',\n",
       " 'vienna3.tif',\n",
       " 'austin12.tif',\n",
       " 'chicago12.tif',\n",
       " 'kitsap16.tif',\n",
       " 'austin36.tif',\n",
       " 'kitsap30.tif',\n",
       " 'chicago20.tif',\n",
       " 'chicago29.tif',\n",
       " 'tyrol-w7.tif',\n",
       " 'vienna5.tif',\n",
       " 'kitsap9.tif',\n",
       " 'austin21.tif',\n",
       " 'tyrol-w29.tif',\n",
       " 'vienna25.tif',\n",
       " 'tyrol-w15.tif',\n",
       " 'vienna31.tif',\n",
       " 'chicago27.tif',\n",
       " 'tyrol-w32.tif',\n",
       " 'austin34.tif',\n",
       " 'austin33.tif',\n",
       " 'chicago31.tif',\n",
       " 'chicago7.tif',\n",
       " 'tyrol-w26.tif',\n",
       " 'vienna11.tif',\n",
       " 'kitsap14.tif',\n",
       " 'kitsap13.tif',\n",
       " 'vienna30.tif',\n",
       " 'austin22.tif',\n",
       " 'austin20.tif',\n",
       " 'chicago10.tif',\n",
       " 'vienna23.tif',\n",
       " 'tyrol-w16.tif',\n",
       " 'austin14.tif',\n",
       " 'vienna12.tif',\n",
       " 'chicago34.tif',\n",
       " 'chicago32.tif',\n",
       " 'kitsap26.tif',\n",
       " 'austin27.tif',\n",
       " 'vienna18.tif',\n",
       " 'vienna2.tif',\n",
       " 'tyrol-w33.tif',\n",
       " 'kitsap12.tif',\n",
       " 'tyrol-w34.tif',\n",
       " 'austin32.tif',\n",
       " 'kitsap36.tif',\n",
       " 'tyrol-w8.tif',\n",
       " 'tyrol-w27.tif',\n",
       " 'chicago2.tif',\n",
       " 'chicago19.tif',\n",
       " 'kitsap1.tif',\n",
       " 'austin19.tif',\n",
       " 'chicago23.tif',\n",
       " 'austin18.tif',\n",
       " 'kitsap15.tif',\n",
       " 'kitsap10.tif',\n",
       " 'austin24.tif',\n",
       " 'chicago3.tif',\n",
       " 'tyrol-w20.tif',\n",
       " 'kitsap2.tif',\n",
       " 'vienna14.tif',\n",
       " 'kitsap32.tif',\n",
       " 'austin35.tif',\n",
       " 'austin4.tif',\n",
       " 'kitsap21.tif',\n",
       " 'kitsap29.tif',\n",
       " 'vienna21.tif',\n",
       " 'vienna8.tif',\n",
       " 'chicago17.tif',\n",
       " 'vienna22.tif',\n",
       " 'kitsap31.tif',\n",
       " 'chicago21.tif',\n",
       " 'kitsap18.tif',\n",
       " 'vienna24.tif',\n",
       " 'vienna17.tif',\n",
       " 'tyrol-w17.tif',\n",
       " 'kitsap22.tif',\n",
       " 'kitsap20.tif',\n",
       " 'austin8.tif',\n",
       " 'vienna9.tif',\n",
       " 'vienna15.tif',\n",
       " 'kitsap3.tif',\n",
       " 'kitsap7.tif',\n",
       " 'chicago14.tif',\n",
       " 'kitsap11.tif',\n",
       " 'vienna1.tif',\n",
       " 'tyrol-w13.tif',\n",
       " 'austin10.tif',\n",
       " 'tyrol-w24.tif',\n",
       " 'vienna36.tif',\n",
       " 'austin26.tif',\n",
       " 'tyrol-w12.tif',\n",
       " 'austin23.tif',\n",
       " 'chicago15.tif',\n",
       " 'tyrol-w28.tif',\n",
       " 'tyrol-w5.tif',\n",
       " 'tyrol-w6.tif',\n",
       " 'chicago18.tif',\n",
       " 'vienna20.tif',\n",
       " 'chicago8.tif',\n",
       " 'tyrol-w19.tif',\n",
       " 'kitsap5.tif',\n",
       " 'vienna29.tif',\n",
       " 'chicago1.tif',\n",
       " 'austin30.tif',\n",
       " 'chicago28.tif',\n",
       " 'vienna34.tif',\n",
       " 'vienna6.tif',\n",
       " 'kitsap19.tif',\n",
       " 'kitsap23.tif',\n",
       " 'austin3.tif',\n",
       " 'kitsap35.tif',\n",
       " 'tyrol-w23.tif',\n",
       " 'tyrol-w31.tif',\n",
       " 'tyrol-w36.tif',\n",
       " 'kitsap25.tif',\n",
       " 'austin16.tif',\n",
       " 'chicago4.tif',\n",
       " 'chicago26.tif',\n",
       " 'vienna26.tif',\n",
       " 'austin25.tif',\n",
       " 'vienna7.tif',\n",
       " 'austin1.tif',\n",
       " 'tyrol-w22.tif',\n",
       " 'chicago5.tif',\n",
       " 'tyrol-w18.tif',\n",
       " 'austin17.tif',\n",
       " 'vienna4.tif',\n",
       " 'tyrol-w35.tif',\n",
       " 'kitsap8.tif',\n",
       " 'kitsap4.tif',\n",
       " 'vienna19.tif',\n",
       " 'tyrol-w1.tif',\n",
       " 'austin7.tif',\n",
       " 'vienna10.tif',\n",
       " 'austin13.tif',\n",
       " 'chicago30.tif',\n",
       " 'chicago13.tif',\n",
       " 'tyrol-w2.tif',\n",
       " 'kitsap17.tif',\n",
       " 'vienna28.tif',\n",
       " 'kitsap28.tif',\n",
       " 'kitsap27.tif']"
      ]
     },
     "execution_count": 7,
     "metadata": {},
     "output_type": "execute_result"
    }
   ],
   "source": [
    "os.listdir('/home/jupyter/raw_data/AerialImageDataset/train/images')"
   ]
  },
  {
   "cell_type": "code",
   "execution_count": 15,
   "id": "9b75566d-b91b-43f6-a431-27144064126e",
   "metadata": {},
   "outputs": [
    {
     "data": {
      "text/plain": [
       "180"
      ]
     },
     "execution_count": 15,
     "metadata": {},
     "output_type": "execute_result"
    }
   ],
   "source": [
    "len(os.listdir(source_images))"
   ]
  },
  {
   "cell_type": "code",
   "execution_count": 17,
   "id": "d789d202-be85-49de-b37a-8292bdb91b10",
   "metadata": {},
   "outputs": [
    {
     "data": {
      "text/plain": [
       "180"
      ]
     },
     "execution_count": 17,
     "metadata": {},
     "output_type": "execute_result"
    }
   ],
   "source": [
    "len(os.listdir(source_masks))"
   ]
  },
  {
   "cell_type": "code",
   "execution_count": 18,
   "id": "65919029-fa3f-4979-be96-10b671770526",
   "metadata": {},
   "outputs": [],
   "source": [
    "for file in test_files:\n",
    "    shutil.move(os.path.join(source_images, file), destination_images)"
   ]
  },
  {
   "cell_type": "code",
   "execution_count": 19,
   "id": "15403478-7aa9-40ad-b640-45fafed749c6",
   "metadata": {},
   "outputs": [
    {
     "data": {
      "text/plain": [
       "155"
      ]
     },
     "execution_count": 19,
     "metadata": {},
     "output_type": "execute_result"
    }
   ],
   "source": [
    "len(os.listdir(source_images))"
   ]
  },
  {
   "cell_type": "code",
   "execution_count": 20,
   "id": "bcf0bd59-5926-447f-b7e2-0d40bc27a050",
   "metadata": {},
   "outputs": [],
   "source": [
    "for file in test_files:\n",
    "    shutil.move(os.path.join(source_masks, file), destination_masks)"
   ]
  },
  {
   "cell_type": "code",
   "execution_count": 21,
   "id": "9f546d4e-0c10-4705-8eb9-aa82ef192bbd",
   "metadata": {},
   "outputs": [
    {
     "data": {
      "text/plain": [
       "155"
      ]
     },
     "execution_count": 21,
     "metadata": {},
     "output_type": "execute_result"
    }
   ],
   "source": [
    "len(os.listdir(source_masks))"
   ]
  },
  {
   "cell_type": "code",
   "execution_count": 22,
   "id": "e4580e1c-d5ec-4f45-a26c-031485b17be9",
   "metadata": {},
   "outputs": [
    {
     "data": {
      "text/plain": [
       "25"
      ]
     },
     "execution_count": 22,
     "metadata": {},
     "output_type": "execute_result"
    }
   ],
   "source": [
    "len(os.listdir(destination_masks))"
   ]
  },
  {
   "cell_type": "code",
   "execution_count": 23,
   "id": "dd318086-79d5-4f8b-a852-8b9a0ca521dc",
   "metadata": {},
   "outputs": [
    {
     "data": {
      "text/plain": [
       "25"
      ]
     },
     "execution_count": 23,
     "metadata": {},
     "output_type": "execute_result"
    }
   ],
   "source": [
    "len(os.listdir(destination_images))"
   ]
  }
 ],
 "metadata": {
  "environment": {
   "kernel": "python3",
   "name": "tf2-gpu.2-8.m100",
   "type": "gcloud",
   "uri": "gcr.io/deeplearning-platform-release/tf2-gpu.2-8:m100"
  },
  "kernelspec": {
   "display_name": "Python 3",
   "language": "python",
   "name": "python3"
  },
  "language_info": {
   "codemirror_mode": {
    "name": "ipython",
    "version": 3
   },
   "file_extension": ".py",
   "mimetype": "text/x-python",
   "name": "python",
   "nbconvert_exporter": "python",
   "pygments_lexer": "ipython3",
   "version": "3.7.12"
  }
 },
 "nbformat": 4,
 "nbformat_minor": 5
}
