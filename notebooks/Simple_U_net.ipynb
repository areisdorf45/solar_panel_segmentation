{
 "cells": [
  {
   "cell_type": "code",
   "execution_count": 2,
   "metadata": {
    "id": "8_DSfH1kMGzy"
   },
   "outputs": [],
   "source": [
    "#standard libraries to manipulate and slice data\n",
    "import os\n",
    "import cv2 as cv\n",
    "import matplotlib.pyplot as plt\n",
    "import numpy as np"
   ]
  },
  {
   "cell_type": "code",
   "execution_count": 3,
   "metadata": {
    "id": "nWF3wy2qN7dq"
   },
   "outputs": [],
   "source": [
    "#deep learning libraries\n",
    "import tensorflow as tf\n",
    "from tensorflow.keras.models import Model\n",
    "from tensorflow.keras.layers import Input, Conv2D, MaxPooling2D, UpSampling2D, concatenate, Conv2DTranspose, BatchNormalization, Dropout, Lambda, Flatten\n",
    "from tensorflow.keras.metrics import MeanIoU\n",
    "from tensorflow.keras.utils import image_dataset_from_directory\n",
    "from tensorflow.keras.callbacks import EarlyStopping, ModelCheckpoint"
   ]
  },
  {
   "cell_type": "code",
   "execution_count": null,
   "metadata": {
    "id": "8D7J4Z8eZqKl"
   },
   "outputs": [],
   "source": [
    "def unet_model(img_height, img_width, channels):\n",
    "\n",
    "    #Input\n",
    "    inputs = Input((img_height, img_width, channels))\n",
    "    inputs = Lambda(lambda x: x / 255)(inputs) #Normalize the pixels by dividing by 255\n",
    "\n",
    "    #Encoder where we are extracting the features\n",
    "    convolution1 = Conv2D(16, kernel_size=(3, 3), activation='relu', padding='same')(inputs)\n",
    "    convolution1 = BatchNormalization()(convolution1) #other option is to do batch normalization\n",
    "    convolution1 = Conv2D(16, kernel_size=(3, 3), activation='relu', padding='same')(convolution1)\n",
    "    pooling1 = MaxPooling2D((2, 2))(convolution1)\n",
    "      \n",
    "    convolution1 = Conv2D(16, kernel_size=(3, 3), activation='relu', padding='same')(inputs)\n",
    "    convolution1 = BatchNormalization()(convolution1) #other option is to do batch normalization\n",
    "    convolution1 = Conv2D(16, kernel_size=(3, 3), activation='relu', padding='same')(convolution1)\n",
    "    pooling1 = MaxPooling2D((2, 2))(convolution1)\n",
    "    \n",
    "    convolution2 = Conv2D(32, kernel_size=(3, 3), activation='relu', padding='same')(pooling1)\n",
    "    convolution2 = BatchNormalization()(convolution2)\n",
    "    convolution2 = Conv2D(32, kernel_size=(3, 3), activation='relu', padding='same')(convolution2)\n",
    "    pooling2 = MaxPooling2D((2, 2))(convolution2)\n",
    "     \n",
    "    convolution3 = Conv2D(64, kernel_size=(3, 3), activation='relu', padding='same')(pooling2)\n",
    "    convolution3 = BatchNormalization()(convolution3)\n",
    "    convolution3 = Conv2D(64, kernel_size=(3, 3), activation='relu', padding='same')(convolution3)\n",
    "    pooling3 = MaxPooling2D((2, 2))(convolution3)\n",
    "     \n",
    "    convolution4 = Conv2D(128, kernel_size=(3, 3), activation='relu', padding='same')(pooling3)\n",
    "    convolution4 = BatchNormalization()(convolution4)\n",
    "    convolution4 = Conv2D(128, kernel_size=(3, 3), activation='relu', padding='same')(convolution4)\n",
    "    pooling4 = MaxPooling2D(pool_size=(2, 2))(convolution4)\n",
    "\n",
    "    #Bottleneck at the base of the U-net \n",
    "    convolution5 = Conv2D(256, kernel_size=(3, 3), activation='relu', padding='same')(pooling4)\n",
    "    convolution5 = BatchNormalization()(convolution5)\n",
    "    convolution5 = Conv2D(256, kernel_size=(3, 3), activation='relu', padding='same')(convolution5)\n",
    "    \n",
    "    #Decoder where we are indicating to the model the precise location of the features \n",
    "    transconv6 = Conv2DTranspose(128, kernel_size=(2, 2), strides=(2, 2), padding='same')(convolution5)\n",
    "    transconv6 = concatenate([transconv6, convolution4])\n",
    "    convolution6 = Conv2D(128, kernel_size=(3, 3), activation='relu', padding='same')(transconv6)\n",
    "    convolution6 = BatchNormalization()(convolution6)\n",
    "    convolution6 = Conv2D(128, kernel_size=(3, 3), activation='relu', padding='same')(convolution6)\n",
    "     \n",
    "    transconv7 = Conv2DTranspose(64, kernel_size=(2, 2), strides=(2, 2), padding='same')(convolution6)\n",
    "    transconv7 = concatenate([transconv7, convolution3])\n",
    "    convolution7 = Conv2D(64, kernel_size=(3, 3), activation='relu', padding='same')(transconv7)\n",
    "    convolution7 = BatchNormalization()(convolution7)\n",
    "    convolution7 = Conv2D(64, kernel_size=(3, 3), activation='relu', padding='same')(convolution7)\n",
    "     \n",
    "    transconv8 = Conv2DTranspose(32, kernel_size=(2, 2), strides=(2, 2), padding='same')(convolution7)\n",
    "    transconv8 = concatenate([transconv8, convolution2])\n",
    "    convolution8 = Conv2D(32, kernel_size=(3, 3), activation='relu', padding='same')(transconv8)\n",
    "    convolution8 = BatchNormalization()(convolution8)\n",
    "    convolution8 = Conv2D(32, kernel_size=(3, 3), activation='relu', padding='same')(convolution8)\n",
    "     \n",
    "    transconv9 = Conv2DTranspose(16, kernel_size=(2, 2), strides=(2, 2), padding='same')(convolution8)\n",
    "    transconv9 = concatenate([transconv9, convolution1], axis=3)\n",
    "    convolution9 = Conv2D(16, kernel_size=(3, 3), activation='relu', padding='same')(transconv9)\n",
    "    convolution9 = BatchNormalization()(convolution9)\n",
    "    convolution9 = Conv2D(16, kernel_size=(3, 3), activation='relu', padding='same')(convolution9)\n",
    "     \n",
    "    outputs = Conv2D(1, kernel_size=(1, 1), activation='sigmoid')(convolution9)\n",
    "     \n",
    "    model = Model(inputs=[inputs], outputs=[outputs])\n",
    "    jaccard = MeanIoU(2)\n",
    "    \n",
    "    \n",
    "    #loss options include: binary_crossentropy, IoU Loss (Jaccard Index), dice loss\n",
    "    model.compile(optimizer='adam', loss='binary_crossentropy', metrics=['accuracy', jaccard])\n",
    "    \n",
    "    model.summary()\n",
    "    \n",
    "    return model"
   ]
  },
  {
   "cell_type": "code",
   "execution_count": null,
   "metadata": {
    "colab": {
     "base_uri": "https://localhost:8080/"
    },
    "id": "aq5pjbUikBq4",
    "outputId": "6c3aeab2-1e5d-4357-a887-91b654a96026"
   },
   "outputs": [],
   "source": [
    "model = unet_model(256, 256, 3)"
   ]
  },
  {
   "cell_type": "code",
   "execution_count": null,
   "metadata": {
    "id": "TlLWpCz5_IRa"
   },
   "outputs": [],
   "source": [
    "from skimage import io"
   ]
  },
  {
   "cell_type": "code",
   "execution_count": null,
   "metadata": {},
   "outputs": [],
   "source": [
    "images_path = '../raw_data/Small_dataset/Images'"
   ]
  },
  {
   "cell_type": "code",
   "execution_count": null,
   "metadata": {},
   "outputs": [],
   "source": [
    "target_path = '../raw_data/Small_dataset/Target'"
   ]
  },
  {
   "cell_type": "code",
   "execution_count": null,
   "metadata": {},
   "outputs": [],
   "source": [
    "files = os.listdir(images_path)\n",
    "target_files = os.listdir(target_path)\n",
    "target_files"
   ]
  },
  {
   "cell_type": "code",
   "execution_count": null,
   "metadata": {},
   "outputs": [],
   "source": [
    "'string'.endswith('ng')"
   ]
  },
  {
   "cell_type": "code",
   "execution_count": null,
   "metadata": {},
   "outputs": [],
   "source": [
    "images = []\n",
    "for file in files:\n",
    "    if file.endswith('Identifier'):\n",
    "        pass\n",
    "    else:\n",
    "        images.append(file)"
   ]
  },
  {
   "cell_type": "code",
   "execution_count": null,
   "metadata": {},
   "outputs": [],
   "source": [
    "data = '/home/areisdorf/code/areisdorf45/solar_panel_segmentation/raw_data/Small_dataset/Images'"
   ]
  },
  {
   "cell_type": "code",
   "execution_count": null,
   "metadata": {
    "colab": {
     "base_uri": "https://localhost:8080/"
    },
    "id": "KljUP_GE9JkH",
    "outputId": "124cf8a1-dda9-4c4d-a423-058be4a50b2a"
   },
   "outputs": [],
   "source": [
    "image_results = []\n",
    "\n",
    "for image in images:\n",
    "    image = cv.imread(f'{data}/{file}')\n",
    "    image_results.append(image)\n",
    "    \n",
    "image_array = np.array(image_results)\n",
    "image_array.shape\n",
    "\n"
   ]
  },
  {
   "cell_type": "code",
   "execution_count": null,
   "metadata": {},
   "outputs": [],
   "source": [
    "targets = []\n",
    "for file in target_files:\n",
    "    if file.endswith('Identifier'):\n",
    "        pass\n",
    "    else:\n",
    "        targets.append(file)"
   ]
  },
  {
   "cell_type": "code",
   "execution_count": null,
   "metadata": {},
   "outputs": [],
   "source": [
    "len(targets)"
   ]
  },
  {
   "cell_type": "code",
   "execution_count": null,
   "metadata": {},
   "outputs": [],
   "source": [
    "target_data = '/home/areisdorf/code/areisdorf45/solar_panel_segmentation/raw_data/Small_dataset/Target'"
   ]
  },
  {
   "cell_type": "code",
   "execution_count": null,
   "metadata": {
    "colab": {
     "base_uri": "https://localhost:8080/"
    },
    "id": "AaoOioJ09JhP",
    "outputId": "67f8b91b-219c-4879-971a-808dd0fad912"
   },
   "outputs": [],
   "source": [
    "target_results = []\n",
    "\n",
    "for file in targets:\n",
    "    target = io.imread(f'{target_data}/{file}')\n",
    "    target_results.append(target)\n",
    "    \n",
    "target_array = np.array(target_results)\n",
    "target_array.shape"
   ]
  },
  {
   "cell_type": "code",
   "execution_count": null,
   "metadata": {},
   "outputs": [],
   "source": [
    "y = target_array"
   ]
  },
  {
   "cell_type": "code",
   "execution_count": null,
   "metadata": {},
   "outputs": [],
   "source": [
    "X = image_array"
   ]
  },
  {
   "cell_type": "code",
   "execution_count": null,
   "metadata": {},
   "outputs": [],
   "source": [
    "checkpoint_filepath = '/tmp/checkpoint'\n",
    "es = EarlyStopping(patience=5, restore_best_weights=True)\n",
    "checkpoint = ModelCheckpoint('solar_unet_inital.h5', restore_best_weights=True)"
   ]
  },
  {
   "cell_type": "code",
   "execution_count": null,
   "metadata": {},
   "outputs": [],
   "source": [
    "model.fit(X,y, validation_split=0.2, epochs = 50, batch_size=32, callbacks=[es], verbose=1)"
   ]
  },
  {
   "cell_type": "markdown",
   "metadata": {},
   "source": [
    "The IoU metric, or Jaccard Index, is similar to the Dice metric and is calculated as the ratio between the overlap of the positive instances between two sets, and their mutual combined values:"
   ]
  },
  {
   "cell_type": "code",
   "execution_count": null,
   "metadata": {},
   "outputs": [],
   "source": []
  }
 ],
 "metadata": {
  "colab": {
   "provenance": []
  },
  "kernelspec": {
   "display_name": "Python 3 (ipykernel)",
   "language": "python",
   "name": "python3"
  },
  "language_info": {
   "codemirror_mode": {
    "name": "ipython",
    "version": 3
   },
   "file_extension": ".py",
   "mimetype": "text/x-python",
   "name": "python",
   "nbconvert_exporter": "python",
   "pygments_lexer": "ipython3",
   "version": "3.8.12"
  },
  "toc": {
   "base_numbering": 1,
   "nav_menu": {},
   "number_sections": true,
   "sideBar": true,
   "skip_h1_title": false,
   "title_cell": "Table of Contents",
   "title_sidebar": "Contents",
   "toc_cell": false,
   "toc_position": {},
   "toc_section_display": true,
   "toc_window_display": false
  }
 },
 "nbformat": 4,
 "nbformat_minor": 1
}
